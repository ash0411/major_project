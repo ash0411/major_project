{
  "nbformat": 4,
  "nbformat_minor": 0,
  "metadata": {
    "colab": {
      "name": "Copy of Untitled20.ipynb",
      "provenance": [],
      "collapsed_sections": [
        "w8n-DMsNEae_"
      ],
      "mount_file_id": "1mM93a1nX97s3sJW2nupLtfD1VYVsfI5V",
      "authorship_tag": "ABX9TyNk5uO5hnl6/WEssfIYJUVU",
      "include_colab_link": true
    },
    "kernelspec": {
      "name": "python3",
      "display_name": "Python 3"
    },
    "language_info": {
      "name": "python"
    },
    "accelerator": "GPU"
  },
  "cells": [
    {
      "cell_type": "markdown",
      "metadata": {
        "id": "view-in-github",
        "colab_type": "text"
      },
      "source": [
        "<a href=\"https://colab.research.google.com/github/ash0411/major_project/blob/main/Copy_of_Untitled20.ipynb\" target=\"_parent\"><img src=\"https://colab.research.google.com/assets/colab-badge.svg\" alt=\"Open In Colab\"/></a>"
      ]
    },
    {
      "cell_type": "markdown",
      "metadata": {
        "id": "4Vx-GhtKEhO-"
      },
      "source": [
        "# importing libraries"
      ]
    },
    {
      "cell_type": "code",
      "metadata": {
        "colab": {
          "base_uri": "https://localhost:8080/"
        },
        "id": "gzynWRCdNQ1V",
        "outputId": "6dc1fab6-2eab-4a19-9851-e060ffd78816"
      },
      "source": [
        "!cat /proc/gpuinfo"
      ],
      "execution_count": null,
      "outputs": [
        {
          "output_type": "stream",
          "text": [
            "cat: /proc/gpuinfo: No such file or directory\n"
          ],
          "name": "stdout"
        }
      ]
    },
    {
      "cell_type": "code",
      "metadata": {
        "colab": {
          "base_uri": "https://localhost:8080/"
        },
        "id": "JaQqGyb7OMD6",
        "outputId": "73a0b0bd-ee4c-4e94-8e07-b2c5d0f75f91"
      },
      "source": [
        "!ls /zoneinfo"
      ],
      "execution_count": null,
      "outputs": [
        {
          "output_type": "stream",
          "text": [
            "ls: cannot access '/zoneinfo': No such file or directory\n"
          ],
          "name": "stdout"
        }
      ]
    },
    {
      "cell_type": "code",
      "metadata": {
        "colab": {
          "base_uri": "https://localhost:8080/"
        },
        "id": "Hq-B2FFaP-yv",
        "outputId": "da514f25-3793-43b9-a3c8-040c5afc1266"
      },
      "source": [
        "!pip install plot-keras-history"
      ],
      "execution_count": null,
      "outputs": [
        {
          "output_type": "stream",
          "text": [
            "Collecting plot-keras-history\n",
            "  Downloading https://files.pythonhosted.org/packages/73/55/183a10ac8b62ca0411bd93286d394ce65d952e09b8d51d9706a4818afe9c/plot_keras_history-1.1.29.tar.gz\n",
            "Requirement already satisfied: matplotlib in /usr/local/lib/python3.7/dist-packages (from plot-keras-history) (3.2.2)\n",
            "Requirement already satisfied: pandas in /usr/local/lib/python3.7/dist-packages (from plot-keras-history) (1.1.5)\n",
            "Requirement already satisfied: scipy in /usr/local/lib/python3.7/dist-packages (from plot-keras-history) (1.4.1)\n",
            "Collecting sanitize_ml_labels\n",
            "  Downloading https://files.pythonhosted.org/packages/57/2c/c97c52a183b3da277a6ca276a9587ea011c5f7bcce0b192d1eaf7eb5084d/sanitize_ml_labels-1.0.26.tar.gz\n",
            "Requirement already satisfied: kiwisolver>=1.0.1 in /usr/local/lib/python3.7/dist-packages (from matplotlib->plot-keras-history) (1.3.1)\n",
            "Requirement already satisfied: numpy>=1.11 in /usr/local/lib/python3.7/dist-packages (from matplotlib->plot-keras-history) (1.19.5)\n",
            "Requirement already satisfied: python-dateutil>=2.1 in /usr/local/lib/python3.7/dist-packages (from matplotlib->plot-keras-history) (2.8.1)\n",
            "Requirement already satisfied: cycler>=0.10 in /usr/local/lib/python3.7/dist-packages (from matplotlib->plot-keras-history) (0.10.0)\n",
            "Requirement already satisfied: pyparsing!=2.0.4,!=2.1.2,!=2.1.6,>=2.0.1 in /usr/local/lib/python3.7/dist-packages (from matplotlib->plot-keras-history) (2.4.7)\n",
            "Requirement already satisfied: pytz>=2017.2 in /usr/local/lib/python3.7/dist-packages (from pandas->plot-keras-history) (2018.9)\n",
            "Collecting compress_json\n",
            "  Downloading https://files.pythonhosted.org/packages/c0/9d/1a79dbc3b9d69c57be363b4cc8bd6f278f919a0973f46c7bb831438c9333/compress_json-1.0.4.tar.gz\n",
            "Requirement already satisfied: six>=1.5 in /usr/local/lib/python3.7/dist-packages (from python-dateutil>=2.1->matplotlib->plot-keras-history) (1.15.0)\n",
            "Building wheels for collected packages: plot-keras-history, sanitize-ml-labels, compress-json\n",
            "  Building wheel for plot-keras-history (setup.py) ... \u001b[?25l\u001b[?25hdone\n",
            "  Created wheel for plot-keras-history: filename=plot_keras_history-1.1.29-cp37-none-any.whl size=8614 sha256=83bb099374f9947dec53a7ebf374df5f642bf437756074c73436116da6d7f34e\n",
            "  Stored in directory: /root/.cache/pip/wheels/8b/cb/fb/cbeba24d72e736b8987b7d0dc37afc0e76f3c16e544ceff727\n",
            "  Building wheel for sanitize-ml-labels (setup.py) ... \u001b[?25l\u001b[?25hdone\n",
            "  Created wheel for sanitize-ml-labels: filename=sanitize_ml_labels-1.0.26-cp37-none-any.whl size=7610 sha256=f24278064d6d5827b0c0d11d72ab3772c22ac2b03808b07c749108f3bd140b0a\n",
            "  Stored in directory: /root/.cache/pip/wheels/2a/62/31/d348320becc60729f508a2c5aad445b94d7543c5cb577cfb9d\n",
            "  Building wheel for compress-json (setup.py) ... \u001b[?25l\u001b[?25hdone\n",
            "  Created wheel for compress-json: filename=compress_json-1.0.4-cp37-none-any.whl size=4586 sha256=4715ca1ca42cc6209d62c34b2c48acd695ea17464216abbdace4ce5a97ab1462\n",
            "  Stored in directory: /root/.cache/pip/wheels/83/ec/21/51460dd508e4a152c0643946c21fae84eb3391171164d35745\n",
            "Successfully built plot-keras-history sanitize-ml-labels compress-json\n",
            "Installing collected packages: compress-json, sanitize-ml-labels, plot-keras-history\n",
            "Successfully installed compress-json-1.0.4 plot-keras-history-1.1.29 sanitize-ml-labels-1.0.26\n"
          ],
          "name": "stdout"
        }
      ]
    },
    {
      "cell_type": "code",
      "metadata": {
        "id": "OxU16Ulnidm1"
      },
      "source": [
        "from numpy import array\n",
        "from keras.preprocessing.text import one_hot\n",
        "from keras.preprocessing.sequence import pad_sequences\n",
        "from keras.models import Sequential\n",
        "from keras.layers.core import Activation, Dropout, Dense\n",
        "from keras.layers import Flatten, LSTM , GRU, Conv1D\n",
        "from keras.layers import GlobalMaxPooling1D\n",
        "from keras.models import Model\n",
        "from keras.layers.embeddings import Embedding\n",
        "from sklearn.model_selection import train_test_split\n",
        "from keras.preprocessing.text import Tokenizer\n",
        "from keras.layers import Input\n",
        "from keras.layers.merge import Concatenate\n",
        "import pandas as pd\n",
        "import numpy as np\n",
        "import re\n",
        "import matplotlib.pyplot as plt\n",
        "from scipy import spatial\n",
        "import matplotlib.pyplot as plt\n",
        "from sklearn.manifold import TSNE\n",
        "from keras.callbacks import ModelCheckpoint\n",
        "from plot_keras_history import plot_history\n",
        "from sklearn.model_selection import RepeatedKFold"
      ],
      "execution_count": null,
      "outputs": []
    },
    {
      "cell_type": "code",
      "metadata": {
        "id": "TSUll9u9nSPK"
      },
      "source": [
        "from sklearn.metrics import accuracy_score\n",
        "from tensorflow.keras.layers import Bidirectional"
      ],
      "execution_count": null,
      "outputs": []
    },
    {
      "cell_type": "markdown",
      "metadata": {
        "id": "z2ctymOVEkre"
      },
      "source": [
        "# loading database"
      ]
    },
    {
      "cell_type": "code",
      "metadata": {
        "id": "qETfU_9djesu"
      },
      "source": [
        "root = '/content/drive/MyDrive/major_project/'\n",
        "df = pd.read_csv(root + \"dataset/\"+\"train_processed.csv\")"
      ],
      "execution_count": null,
      "outputs": []
    },
    {
      "cell_type": "code",
      "metadata": {
        "colab": {
          "base_uri": "https://localhost:8080/"
        },
        "id": "xKeqRdW02XB1",
        "outputId": "39b1264b-5185-4cba-8ab0-59c29ab48fcd"
      },
      "source": [
        "df.info()"
      ],
      "execution_count": null,
      "outputs": [
        {
          "output_type": "stream",
          "text": [
            "<class 'pandas.core.frame.DataFrame'>\n",
            "RangeIndex: 14004 entries, 0 to 14003\n",
            "Data columns (total 32 columns):\n",
            " #   Column                                        Non-Null Count  Dtype \n",
            "---  ------                                        --------------  ----- \n",
            " 0   id                                            14004 non-null  int64 \n",
            " 1   ABSTRACT                                      14004 non-null  object\n",
            " 2   Computer Science                              14004 non-null  int64 \n",
            " 3   Mathematics                                   14004 non-null  int64 \n",
            " 4   Physics                                       14004 non-null  int64 \n",
            " 5   Statistics                                    14004 non-null  int64 \n",
            " 6   Analysis of PDEs                              14004 non-null  int64 \n",
            " 7   Applications                                  14004 non-null  int64 \n",
            " 8   Artificial Intelligence                       14004 non-null  int64 \n",
            " 9   Astrophysics of Galaxies                      14004 non-null  int64 \n",
            " 10  Computation and Language                      14004 non-null  int64 \n",
            " 11  Computer Vision and Pattern Recognition       14004 non-null  int64 \n",
            " 12  Cosmology and Nongalactic Astrophysics        14004 non-null  int64 \n",
            " 13  Data Structures and Algorithms                14004 non-null  int64 \n",
            " 14  Differential Geometry                         14004 non-null  int64 \n",
            " 15  Earth and Planetary Astrophysics              14004 non-null  int64 \n",
            " 16  Fluid Dynamics                                14004 non-null  int64 \n",
            " 17  Information Theory                            14004 non-null  int64 \n",
            " 18  Instrumentation and Methods for Astrophysics  14004 non-null  int64 \n",
            " 19  Machine Learning                              14004 non-null  int64 \n",
            " 20  Materials Science                             14004 non-null  int64 \n",
            " 21  Methodology                                   14004 non-null  int64 \n",
            " 22  Number Theory                                 14004 non-null  int64 \n",
            " 23  Optimization and Control                      14004 non-null  int64 \n",
            " 24  Representation Theory                         14004 non-null  int64 \n",
            " 25  Robotics                                      14004 non-null  int64 \n",
            " 26  Social and Information Networks               14004 non-null  int64 \n",
            " 27  Statistics Theory                             14004 non-null  int64 \n",
            " 28  Strongly Correlated Electrons                 14004 non-null  int64 \n",
            " 29  Superconductivity                             14004 non-null  int64 \n",
            " 30  Systems and Control                           14004 non-null  int64 \n",
            " 31  new_summary                                   14004 non-null  object\n",
            "dtypes: int64(30), object(2)\n",
            "memory usage: 3.4+ MB\n"
          ],
          "name": "stdout"
        }
      ]
    },
    {
      "cell_type": "markdown",
      "metadata": {
        "id": "rCQuPn6vQijy"
      },
      "source": [
        "## normal"
      ]
    },
    {
      "cell_type": "code",
      "metadata": {
        "id": "gLiw5g9HjVCC"
      },
      "source": [
        " X_train, X_test, y_train, y_test = train_test_split(df.iloc[:,-1], df.iloc[:,2:-1], test_size=0.20, random_state=42)"
      ],
      "execution_count": null,
      "outputs": []
    },
    {
      "cell_type": "markdown",
      "metadata": {
        "id": "9N7JgM_aQky2"
      },
      "source": [
        "## for k fold"
      ]
    },
    {
      "cell_type": "code",
      "metadata": {
        "id": "mcLel1tHQnIs"
      },
      "source": [
        "X = df.iloc[:,-1]\n",
        "Y = df.iloc[:,2:-1]"
      ],
      "execution_count": null,
      "outputs": []
    },
    {
      "cell_type": "code",
      "metadata": {
        "colab": {
          "base_uri": "https://localhost:8080/"
        },
        "id": "aru1SiUuUwb1",
        "outputId": "2ac39610-cb95-4078-e0d0-dbf6f777432c"
      },
      "source": [
        "Y"
      ],
      "execution_count": null,
      "outputs": [
        {
          "output_type": "execute_result",
          "data": {
            "text/html": [
              "<div>\n",
              "<style scoped>\n",
              "    .dataframe tbody tr th:only-of-type {\n",
              "        vertical-align: middle;\n",
              "    }\n",
              "\n",
              "    .dataframe tbody tr th {\n",
              "        vertical-align: top;\n",
              "    }\n",
              "\n",
              "    .dataframe thead th {\n",
              "        text-align: right;\n",
              "    }\n",
              "</style>\n",
              "<table border=\"1\" class=\"dataframe\">\n",
              "  <thead>\n",
              "    <tr style=\"text-align: right;\">\n",
              "      <th></th>\n",
              "      <th>Computer Science</th>\n",
              "      <th>Mathematics</th>\n",
              "      <th>Physics</th>\n",
              "      <th>Statistics</th>\n",
              "      <th>Analysis of PDEs</th>\n",
              "      <th>Applications</th>\n",
              "      <th>Artificial Intelligence</th>\n",
              "      <th>Astrophysics of Galaxies</th>\n",
              "      <th>Computation and Language</th>\n",
              "      <th>Computer Vision and Pattern Recognition</th>\n",
              "      <th>Cosmology and Nongalactic Astrophysics</th>\n",
              "      <th>Data Structures and Algorithms</th>\n",
              "      <th>Differential Geometry</th>\n",
              "      <th>Earth and Planetary Astrophysics</th>\n",
              "      <th>Fluid Dynamics</th>\n",
              "      <th>Information Theory</th>\n",
              "      <th>Instrumentation and Methods for Astrophysics</th>\n",
              "      <th>Machine Learning</th>\n",
              "      <th>Materials Science</th>\n",
              "      <th>Methodology</th>\n",
              "      <th>Number Theory</th>\n",
              "      <th>Optimization and Control</th>\n",
              "      <th>Representation Theory</th>\n",
              "      <th>Robotics</th>\n",
              "      <th>Social and Information Networks</th>\n",
              "      <th>Statistics Theory</th>\n",
              "      <th>Strongly Correlated Electrons</th>\n",
              "      <th>Superconductivity</th>\n",
              "      <th>Systems and Control</th>\n",
              "    </tr>\n",
              "  </thead>\n",
              "  <tbody>\n",
              "    <tr>\n",
              "      <th>0</th>\n",
              "      <td>0</td>\n",
              "      <td>0</td>\n",
              "      <td>1</td>\n",
              "      <td>0</td>\n",
              "      <td>0</td>\n",
              "      <td>0</td>\n",
              "      <td>0</td>\n",
              "      <td>0</td>\n",
              "      <td>0</td>\n",
              "      <td>0</td>\n",
              "      <td>1</td>\n",
              "      <td>0</td>\n",
              "      <td>0</td>\n",
              "      <td>0</td>\n",
              "      <td>0</td>\n",
              "      <td>0</td>\n",
              "      <td>1</td>\n",
              "      <td>0</td>\n",
              "      <td>0</td>\n",
              "      <td>0</td>\n",
              "      <td>0</td>\n",
              "      <td>0</td>\n",
              "      <td>0</td>\n",
              "      <td>0</td>\n",
              "      <td>0</td>\n",
              "      <td>0</td>\n",
              "      <td>0</td>\n",
              "      <td>0</td>\n",
              "      <td>0</td>\n",
              "    </tr>\n",
              "    <tr>\n",
              "      <th>1</th>\n",
              "      <td>1</td>\n",
              "      <td>0</td>\n",
              "      <td>0</td>\n",
              "      <td>0</td>\n",
              "      <td>0</td>\n",
              "      <td>0</td>\n",
              "      <td>0</td>\n",
              "      <td>0</td>\n",
              "      <td>0</td>\n",
              "      <td>0</td>\n",
              "      <td>0</td>\n",
              "      <td>1</td>\n",
              "      <td>0</td>\n",
              "      <td>0</td>\n",
              "      <td>0</td>\n",
              "      <td>0</td>\n",
              "      <td>0</td>\n",
              "      <td>0</td>\n",
              "      <td>0</td>\n",
              "      <td>0</td>\n",
              "      <td>0</td>\n",
              "      <td>0</td>\n",
              "      <td>0</td>\n",
              "      <td>0</td>\n",
              "      <td>0</td>\n",
              "      <td>0</td>\n",
              "      <td>0</td>\n",
              "      <td>0</td>\n",
              "      <td>0</td>\n",
              "    </tr>\n",
              "    <tr>\n",
              "      <th>2</th>\n",
              "      <td>0</td>\n",
              "      <td>0</td>\n",
              "      <td>1</td>\n",
              "      <td>0</td>\n",
              "      <td>0</td>\n",
              "      <td>0</td>\n",
              "      <td>0</td>\n",
              "      <td>0</td>\n",
              "      <td>0</td>\n",
              "      <td>0</td>\n",
              "      <td>0</td>\n",
              "      <td>0</td>\n",
              "      <td>0</td>\n",
              "      <td>0</td>\n",
              "      <td>0</td>\n",
              "      <td>0</td>\n",
              "      <td>0</td>\n",
              "      <td>0</td>\n",
              "      <td>0</td>\n",
              "      <td>0</td>\n",
              "      <td>0</td>\n",
              "      <td>0</td>\n",
              "      <td>0</td>\n",
              "      <td>0</td>\n",
              "      <td>0</td>\n",
              "      <td>0</td>\n",
              "      <td>1</td>\n",
              "      <td>0</td>\n",
              "      <td>0</td>\n",
              "    </tr>\n",
              "    <tr>\n",
              "      <th>3</th>\n",
              "      <td>0</td>\n",
              "      <td>0</td>\n",
              "      <td>1</td>\n",
              "      <td>0</td>\n",
              "      <td>0</td>\n",
              "      <td>0</td>\n",
              "      <td>0</td>\n",
              "      <td>0</td>\n",
              "      <td>0</td>\n",
              "      <td>0</td>\n",
              "      <td>0</td>\n",
              "      <td>0</td>\n",
              "      <td>0</td>\n",
              "      <td>0</td>\n",
              "      <td>1</td>\n",
              "      <td>0</td>\n",
              "      <td>0</td>\n",
              "      <td>0</td>\n",
              "      <td>0</td>\n",
              "      <td>0</td>\n",
              "      <td>0</td>\n",
              "      <td>0</td>\n",
              "      <td>0</td>\n",
              "      <td>0</td>\n",
              "      <td>0</td>\n",
              "      <td>0</td>\n",
              "      <td>0</td>\n",
              "      <td>0</td>\n",
              "      <td>0</td>\n",
              "    </tr>\n",
              "    <tr>\n",
              "      <th>4</th>\n",
              "      <td>1</td>\n",
              "      <td>0</td>\n",
              "      <td>0</td>\n",
              "      <td>0</td>\n",
              "      <td>0</td>\n",
              "      <td>0</td>\n",
              "      <td>0</td>\n",
              "      <td>0</td>\n",
              "      <td>0</td>\n",
              "      <td>1</td>\n",
              "      <td>0</td>\n",
              "      <td>0</td>\n",
              "      <td>0</td>\n",
              "      <td>0</td>\n",
              "      <td>0</td>\n",
              "      <td>0</td>\n",
              "      <td>0</td>\n",
              "      <td>1</td>\n",
              "      <td>0</td>\n",
              "      <td>0</td>\n",
              "      <td>0</td>\n",
              "      <td>0</td>\n",
              "      <td>0</td>\n",
              "      <td>0</td>\n",
              "      <td>0</td>\n",
              "      <td>0</td>\n",
              "      <td>0</td>\n",
              "      <td>0</td>\n",
              "      <td>0</td>\n",
              "    </tr>\n",
              "    <tr>\n",
              "      <th>...</th>\n",
              "      <td>...</td>\n",
              "      <td>...</td>\n",
              "      <td>...</td>\n",
              "      <td>...</td>\n",
              "      <td>...</td>\n",
              "      <td>...</td>\n",
              "      <td>...</td>\n",
              "      <td>...</td>\n",
              "      <td>...</td>\n",
              "      <td>...</td>\n",
              "      <td>...</td>\n",
              "      <td>...</td>\n",
              "      <td>...</td>\n",
              "      <td>...</td>\n",
              "      <td>...</td>\n",
              "      <td>...</td>\n",
              "      <td>...</td>\n",
              "      <td>...</td>\n",
              "      <td>...</td>\n",
              "      <td>...</td>\n",
              "      <td>...</td>\n",
              "      <td>...</td>\n",
              "      <td>...</td>\n",
              "      <td>...</td>\n",
              "      <td>...</td>\n",
              "      <td>...</td>\n",
              "      <td>...</td>\n",
              "      <td>...</td>\n",
              "      <td>...</td>\n",
              "    </tr>\n",
              "    <tr>\n",
              "      <th>13999</th>\n",
              "      <td>1</td>\n",
              "      <td>0</td>\n",
              "      <td>0</td>\n",
              "      <td>0</td>\n",
              "      <td>0</td>\n",
              "      <td>0</td>\n",
              "      <td>0</td>\n",
              "      <td>0</td>\n",
              "      <td>0</td>\n",
              "      <td>0</td>\n",
              "      <td>0</td>\n",
              "      <td>0</td>\n",
              "      <td>0</td>\n",
              "      <td>0</td>\n",
              "      <td>0</td>\n",
              "      <td>0</td>\n",
              "      <td>0</td>\n",
              "      <td>0</td>\n",
              "      <td>0</td>\n",
              "      <td>0</td>\n",
              "      <td>0</td>\n",
              "      <td>0</td>\n",
              "      <td>0</td>\n",
              "      <td>0</td>\n",
              "      <td>1</td>\n",
              "      <td>0</td>\n",
              "      <td>0</td>\n",
              "      <td>0</td>\n",
              "      <td>0</td>\n",
              "    </tr>\n",
              "    <tr>\n",
              "      <th>14000</th>\n",
              "      <td>1</td>\n",
              "      <td>0</td>\n",
              "      <td>0</td>\n",
              "      <td>0</td>\n",
              "      <td>0</td>\n",
              "      <td>0</td>\n",
              "      <td>1</td>\n",
              "      <td>0</td>\n",
              "      <td>0</td>\n",
              "      <td>1</td>\n",
              "      <td>0</td>\n",
              "      <td>0</td>\n",
              "      <td>0</td>\n",
              "      <td>0</td>\n",
              "      <td>0</td>\n",
              "      <td>0</td>\n",
              "      <td>0</td>\n",
              "      <td>0</td>\n",
              "      <td>0</td>\n",
              "      <td>0</td>\n",
              "      <td>0</td>\n",
              "      <td>0</td>\n",
              "      <td>0</td>\n",
              "      <td>1</td>\n",
              "      <td>0</td>\n",
              "      <td>0</td>\n",
              "      <td>0</td>\n",
              "      <td>0</td>\n",
              "      <td>0</td>\n",
              "    </tr>\n",
              "    <tr>\n",
              "      <th>14001</th>\n",
              "      <td>0</td>\n",
              "      <td>0</td>\n",
              "      <td>1</td>\n",
              "      <td>0</td>\n",
              "      <td>0</td>\n",
              "      <td>0</td>\n",
              "      <td>0</td>\n",
              "      <td>0</td>\n",
              "      <td>0</td>\n",
              "      <td>0</td>\n",
              "      <td>0</td>\n",
              "      <td>0</td>\n",
              "      <td>0</td>\n",
              "      <td>0</td>\n",
              "      <td>0</td>\n",
              "      <td>0</td>\n",
              "      <td>0</td>\n",
              "      <td>0</td>\n",
              "      <td>0</td>\n",
              "      <td>0</td>\n",
              "      <td>0</td>\n",
              "      <td>0</td>\n",
              "      <td>0</td>\n",
              "      <td>0</td>\n",
              "      <td>0</td>\n",
              "      <td>0</td>\n",
              "      <td>1</td>\n",
              "      <td>1</td>\n",
              "      <td>0</td>\n",
              "    </tr>\n",
              "    <tr>\n",
              "      <th>14002</th>\n",
              "      <td>1</td>\n",
              "      <td>0</td>\n",
              "      <td>0</td>\n",
              "      <td>0</td>\n",
              "      <td>0</td>\n",
              "      <td>0</td>\n",
              "      <td>0</td>\n",
              "      <td>0</td>\n",
              "      <td>1</td>\n",
              "      <td>0</td>\n",
              "      <td>0</td>\n",
              "      <td>0</td>\n",
              "      <td>0</td>\n",
              "      <td>0</td>\n",
              "      <td>0</td>\n",
              "      <td>0</td>\n",
              "      <td>0</td>\n",
              "      <td>0</td>\n",
              "      <td>0</td>\n",
              "      <td>0</td>\n",
              "      <td>0</td>\n",
              "      <td>0</td>\n",
              "      <td>0</td>\n",
              "      <td>0</td>\n",
              "      <td>0</td>\n",
              "      <td>0</td>\n",
              "      <td>0</td>\n",
              "      <td>0</td>\n",
              "      <td>0</td>\n",
              "    </tr>\n",
              "    <tr>\n",
              "      <th>14003</th>\n",
              "      <td>0</td>\n",
              "      <td>0</td>\n",
              "      <td>1</td>\n",
              "      <td>0</td>\n",
              "      <td>0</td>\n",
              "      <td>0</td>\n",
              "      <td>0</td>\n",
              "      <td>0</td>\n",
              "      <td>0</td>\n",
              "      <td>0</td>\n",
              "      <td>0</td>\n",
              "      <td>0</td>\n",
              "      <td>0</td>\n",
              "      <td>0</td>\n",
              "      <td>0</td>\n",
              "      <td>0</td>\n",
              "      <td>0</td>\n",
              "      <td>0</td>\n",
              "      <td>0</td>\n",
              "      <td>0</td>\n",
              "      <td>0</td>\n",
              "      <td>0</td>\n",
              "      <td>0</td>\n",
              "      <td>0</td>\n",
              "      <td>0</td>\n",
              "      <td>0</td>\n",
              "      <td>1</td>\n",
              "      <td>0</td>\n",
              "      <td>0</td>\n",
              "    </tr>\n",
              "  </tbody>\n",
              "</table>\n",
              "<p>14004 rows × 29 columns</p>\n",
              "</div>"
            ],
            "text/plain": [
              "       Computer Science  Mathematics  ...  Superconductivity  Systems and Control\n",
              "0                     0            0  ...                  0                    0\n",
              "1                     1            0  ...                  0                    0\n",
              "2                     0            0  ...                  0                    0\n",
              "3                     0            0  ...                  0                    0\n",
              "4                     1            0  ...                  0                    0\n",
              "...                 ...          ...  ...                ...                  ...\n",
              "13999                 1            0  ...                  0                    0\n",
              "14000                 1            0  ...                  0                    0\n",
              "14001                 0            0  ...                  1                    0\n",
              "14002                 1            0  ...                  0                    0\n",
              "14003                 0            0  ...                  0                    0\n",
              "\n",
              "[14004 rows x 29 columns]"
            ]
          },
          "metadata": {
            "tags": []
          },
          "execution_count": 7
        }
      ]
    },
    {
      "cell_type": "markdown",
      "metadata": {
        "id": "sAoA7f8rNsdR"
      },
      "source": [
        "# loading major classes"
      ]
    },
    {
      "cell_type": "code",
      "metadata": {
        "id": "_We_1ahvNxkR"
      },
      "source": [
        "root = '/content/drive/MyDrive/major_project/'\n",
        "df = pd.read_csv(root + \"dataset/\"+\"train_processed.csv\")"
      ],
      "execution_count": null,
      "outputs": []
    },
    {
      "cell_type": "code",
      "metadata": {
        "id": "pqhzmGIJNxiB"
      },
      "source": [
        "df1 = df.iloc[:,2:6]"
      ],
      "execution_count": null,
      "outputs": []
    },
    {
      "cell_type": "code",
      "metadata": {
        "id": "VS3b16qeNxfg"
      },
      "source": [
        "df1['Machine Learning'] = df[\"Machine Learning\"]\n",
        "df1['new_summary'] = df[\"new_summary\"]"
      ],
      "execution_count": null,
      "outputs": []
    },
    {
      "cell_type": "code",
      "metadata": {
        "colab": {
          "base_uri": "https://localhost:8080/",
          "height": 419
        },
        "id": "eT0nMMHyNxdj",
        "outputId": "d453a6e1-cb92-4953-877d-e641e6c30430"
      },
      "source": [
        "df1"
      ],
      "execution_count": null,
      "outputs": [
        {
          "output_type": "execute_result",
          "data": {
            "text/html": [
              "<div>\n",
              "<style scoped>\n",
              "    .dataframe tbody tr th:only-of-type {\n",
              "        vertical-align: middle;\n",
              "    }\n",
              "\n",
              "    .dataframe tbody tr th {\n",
              "        vertical-align: top;\n",
              "    }\n",
              "\n",
              "    .dataframe thead th {\n",
              "        text-align: right;\n",
              "    }\n",
              "</style>\n",
              "<table border=\"1\" class=\"dataframe\">\n",
              "  <thead>\n",
              "    <tr style=\"text-align: right;\">\n",
              "      <th></th>\n",
              "      <th>Computer Science</th>\n",
              "      <th>Mathematics</th>\n",
              "      <th>Physics</th>\n",
              "      <th>Statistics</th>\n",
              "      <th>Machine Learning</th>\n",
              "      <th>new_summary</th>\n",
              "    </tr>\n",
              "  </thead>\n",
              "  <tbody>\n",
              "    <tr>\n",
              "      <th>0</th>\n",
              "      <td>0</td>\n",
              "      <td>0</td>\n",
              "      <td>1</td>\n",
              "      <td>0</td>\n",
              "      <td>0</td>\n",
              "      <td>evergrowe dataset inside observational astrono...</td>\n",
              "    </tr>\n",
              "    <tr>\n",
              "      <th>1</th>\n",
              "      <td>1</td>\n",
              "      <td>0</td>\n",
              "      <td>0</td>\n",
              "      <td>0</td>\n",
              "      <td>0</td>\n",
              "      <td>propose framework consider optimal tmatching e...</td>\n",
              "    </tr>\n",
              "    <tr>\n",
              "      <th>2</th>\n",
              "      <td>0</td>\n",
              "      <td>0</td>\n",
              "      <td>1</td>\n",
              "      <td>0</td>\n",
              "      <td>0</td>\n",
              "      <td>nanostructures open shell transition metal mol...</td>\n",
              "    </tr>\n",
              "    <tr>\n",
              "      <th>3</th>\n",
              "      <td>0</td>\n",
              "      <td>0</td>\n",
              "      <td>1</td>\n",
              "      <td>0</td>\n",
              "      <td>0</td>\n",
              "      <td>star selfgravitate fluid inside pressure buoya...</td>\n",
              "    </tr>\n",
              "    <tr>\n",
              "      <th>4</th>\n",
              "      <td>1</td>\n",
              "      <td>0</td>\n",
              "      <td>0</td>\n",
              "      <td>0</td>\n",
              "      <td>1</td>\n",
              "      <td>deep neural perception control network likely ...</td>\n",
              "    </tr>\n",
              "    <tr>\n",
              "      <th>...</th>\n",
              "      <td>...</td>\n",
              "      <td>...</td>\n",
              "      <td>...</td>\n",
              "      <td>...</td>\n",
              "      <td>...</td>\n",
              "      <td>...</td>\n",
              "    </tr>\n",
              "    <tr>\n",
              "      <th>13999</th>\n",
              "      <td>1</td>\n",
              "      <td>0</td>\n",
              "      <td>0</td>\n",
              "      <td>0</td>\n",
              "      <td>0</td>\n",
              "      <td>methodology automatic detection event basis in...</td>\n",
              "    </tr>\n",
              "    <tr>\n",
              "      <th>14000</th>\n",
              "      <td>1</td>\n",
              "      <td>0</td>\n",
              "      <td>0</td>\n",
              "      <td>0</td>\n",
              "      <td>0</td>\n",
              "      <td>consider case inside robot navigate inside unk...</td>\n",
              "    </tr>\n",
              "    <tr>\n",
              "      <th>14001</th>\n",
              "      <td>0</td>\n",
              "      <td>0</td>\n",
              "      <td>1</td>\n",
              "      <td>0</td>\n",
              "      <td>0</td>\n",
              "      <td>despite usually consider two compete phenomena...</td>\n",
              "    </tr>\n",
              "    <tr>\n",
              "      <th>14002</th>\n",
              "      <td>1</td>\n",
              "      <td>0</td>\n",
              "      <td>0</td>\n",
              "      <td>0</td>\n",
              "      <td>0</td>\n",
              "      <td>present framework implementation rely natural ...</td>\n",
              "    </tr>\n",
              "    <tr>\n",
              "      <th>14003</th>\n",
              "      <td>0</td>\n",
              "      <td>0</td>\n",
              "      <td>1</td>\n",
              "      <td>0</td>\n",
              "      <td>0</td>\n",
              "      <td>report smallangle neutron scatter san measurem...</td>\n",
              "    </tr>\n",
              "  </tbody>\n",
              "</table>\n",
              "<p>14004 rows × 6 columns</p>\n",
              "</div>"
            ],
            "text/plain": [
              "       Computer Science  ...                                        new_summary\n",
              "0                     0  ...  evergrowe dataset inside observational astrono...\n",
              "1                     1  ...  propose framework consider optimal tmatching e...\n",
              "2                     0  ...  nanostructures open shell transition metal mol...\n",
              "3                     0  ...  star selfgravitate fluid inside pressure buoya...\n",
              "4                     1  ...  deep neural perception control network likely ...\n",
              "...                 ...  ...                                                ...\n",
              "13999                 1  ...  methodology automatic detection event basis in...\n",
              "14000                 1  ...  consider case inside robot navigate inside unk...\n",
              "14001                 0  ...  despite usually consider two compete phenomena...\n",
              "14002                 1  ...  present framework implementation rely natural ...\n",
              "14003                 0  ...  report smallangle neutron scatter san measurem...\n",
              "\n",
              "[14004 rows x 6 columns]"
            ]
          },
          "metadata": {
            "tags": []
          },
          "execution_count": 7
        }
      ]
    },
    {
      "cell_type": "code",
      "metadata": {
        "colab": {
          "base_uri": "https://localhost:8080/",
          "height": 204
        },
        "id": "vctIHRQkNxZ2",
        "outputId": "af3ef44f-5631-42c6-b54a-3b10f571c30c"
      },
      "source": [
        "counts = []\n",
        "categories = list(df1.columns.values)\n",
        "categories.remove('new_summary')\n",
        "for i in categories:\n",
        "    counts.append((i, df1[i].sum()))\n",
        "df_stats = pd.DataFrame(counts, columns=['category', 'research papers'])\n",
        "df_stats"
      ],
      "execution_count": null,
      "outputs": [
        {
          "output_type": "execute_result",
          "data": {
            "text/html": [
              "<div>\n",
              "<style scoped>\n",
              "    .dataframe tbody tr th:only-of-type {\n",
              "        vertical-align: middle;\n",
              "    }\n",
              "\n",
              "    .dataframe tbody tr th {\n",
              "        vertical-align: top;\n",
              "    }\n",
              "\n",
              "    .dataframe thead th {\n",
              "        text-align: right;\n",
              "    }\n",
              "</style>\n",
              "<table border=\"1\" class=\"dataframe\">\n",
              "  <thead>\n",
              "    <tr style=\"text-align: right;\">\n",
              "      <th></th>\n",
              "      <th>category</th>\n",
              "      <th>research papers</th>\n",
              "    </tr>\n",
              "  </thead>\n",
              "  <tbody>\n",
              "    <tr>\n",
              "      <th>0</th>\n",
              "      <td>Computer Science</td>\n",
              "      <td>5884</td>\n",
              "    </tr>\n",
              "    <tr>\n",
              "      <th>1</th>\n",
              "      <td>Mathematics</td>\n",
              "      <td>2831</td>\n",
              "    </tr>\n",
              "    <tr>\n",
              "      <th>2</th>\n",
              "      <td>Physics</td>\n",
              "      <td>3856</td>\n",
              "    </tr>\n",
              "    <tr>\n",
              "      <th>3</th>\n",
              "      <td>Statistics</td>\n",
              "      <td>3794</td>\n",
              "    </tr>\n",
              "    <tr>\n",
              "      <th>4</th>\n",
              "      <td>Machine Learning</td>\n",
              "      <td>3825</td>\n",
              "    </tr>\n",
              "  </tbody>\n",
              "</table>\n",
              "</div>"
            ],
            "text/plain": [
              "           category  research papers\n",
              "0  Computer Science             5884\n",
              "1       Mathematics             2831\n",
              "2           Physics             3856\n",
              "3        Statistics             3794\n",
              "4  Machine Learning             3825"
            ]
          },
          "metadata": {
            "tags": []
          },
          "execution_count": 7
        }
      ]
    },
    {
      "cell_type": "code",
      "metadata": {
        "id": "S1q8bK8MNxXm"
      },
      "source": [
        " X_train, X_test, y_train, y_test = train_test_split(df1.iloc[:,-1], df1.iloc[:,:-1], test_size=0.20, random_state=42)"
      ],
      "execution_count": null,
      "outputs": []
    },
    {
      "cell_type": "code",
      "metadata": {
        "id": "6j37sc6mSnrJ"
      },
      "source": [
        "df1['new_summary'].apply(lambda x: len(x.split(\" \"))).mean()\n",
        "max_len = 102"
      ],
      "execution_count": null,
      "outputs": []
    },
    {
      "cell_type": "markdown",
      "metadata": {
        "id": "i2nH4RKBxTDX"
      },
      "source": [
        "# text processing"
      ]
    },
    {
      "cell_type": "code",
      "metadata": {
        "colab": {
          "base_uri": "https://localhost:8080/"
        },
        "id": "LOI03V8ixlZU",
        "outputId": "1c0cc447-1b04-4bcd-abde-a370df7c550c"
      },
      "source": [
        "np.random.seed(7)\n",
        "text = np.concatenate((X_train, X_test), axis=0)\n",
        "text = np.array(text)\n",
        "tokenizer = Tokenizer(num_words=2000)\n",
        "tokenizer.fit_on_texts(text)\n",
        "sequences = tokenizer.texts_to_sequences(text)\n",
        "# maximum_len = 0\n",
        "# for i in sequences:\n",
        "#   if len(i) > maximum_len:\n",
        "#     maximum_len = len(i)\n",
        "word_index = tokenizer.word_index\n",
        "text = pad_sequences(sequences, maxlen=max_len)\n",
        "print('Found %s unique tokens.' % len(word_index))\n",
        "indices = np.arange(text.shape[0])\n",
        "# np.random.shuffle(indices)\n",
        "text = text[indices]\n",
        "print(text.shape)\n",
        "X_train = text[0:len(X_train), ]\n",
        "X_test = text[len(X_train):, ]"
      ],
      "execution_count": null,
      "outputs": [
        {
          "output_type": "stream",
          "text": [
            "Found 62783 unique tokens.\n",
            "(14004, 102)\n"
          ],
          "name": "stdout"
        }
      ]
    },
    {
      "cell_type": "markdown",
      "metadata": {
        "id": "DDYwwf6gEtMh"
      },
      "source": [
        "# making embeddings"
      ]
    },
    {
      "cell_type": "code",
      "metadata": {
        "id": "eEFM_wnZEsa1"
      },
      "source": [
        "embeddings_dict = {}"
      ],
      "execution_count": null,
      "outputs": []
    },
    {
      "cell_type": "code",
      "metadata": {
        "id": "3jMxv0TXofq1"
      },
      "source": [
        "with open(\"/content/drive/MyDrive/major_project/glove.6B/glove.6B.300d.txt\", 'r', encoding=\"utf-8\") as f:\n",
        "      for line in f:\n",
        "        values = line.split()\n",
        "        #print(values)\n",
        "        word = values[0]\n",
        "        vector = np.asarray(values[1:], \"float32\")\n",
        "        embeddings_dict[word] = vector"
      ],
      "execution_count": null,
      "outputs": []
    },
    {
      "cell_type": "code",
      "metadata": {
        "id": "CZVxiLdxXH3L"
      },
      "source": [
        "def find_closest_embeddings(embedding):\n",
        "  return sorted(embeddings_dict.keys(), key=lambda word: spatial.distance.euclidean(embeddings_dict[word], embedding))"
      ],
      "execution_count": null,
      "outputs": []
    },
    {
      "cell_type": "code",
      "metadata": {
        "id": "UUNFY2ees-VP"
      },
      "source": [
        "#find_closest_embeddings(embeddings_dict[\"factor\"])[:5]"
      ],
      "execution_count": null,
      "outputs": []
    },
    {
      "cell_type": "code",
      "metadata": {
        "id": "U3EtbioatyUc"
      },
      "source": [
        "MAX_SEQUENCE_LENGTH=332\n",
        "EMBEDDING_DIM=300\n",
        "embedding_matrix = np.random.random((len(word_index) + 1, EMBEDDING_DIM))\n",
        "for word, i in word_index.items():\n",
        "        embedding_vector = embeddings_dict.get(word)\n",
        "        if embedding_vector is not None:\n",
        "            # words not found in embedding index will be all-zeros.\n",
        "            if len(embedding_matrix[i]) != len(embedding_vector):\n",
        "                print(\"could not broadcast input array from shape\", str(len(embedding_matrix[i])),\n",
        "                      \"into shape\", str(len(embedding_vector)), \" Please make sure your\"\n",
        "                                                                \" EMBEDDING_DIM is equal to embedding_vector file ,GloVe,\")\n",
        "                exit(1)\n",
        "            embedding_matrix[i] = embedding_vector"
      ],
      "execution_count": null,
      "outputs": []
    },
    {
      "cell_type": "markdown",
      "metadata": {
        "id": "JNlKFDn5uktj"
      },
      "source": [
        "# model creation"
      ]
    },
    {
      "cell_type": "code",
      "metadata": {
        "id": "4RHKRFWYVE_7"
      },
      "source": [
        "import tensorflow as tf"
      ],
      "execution_count": null,
      "outputs": []
    },
    {
      "cell_type": "code",
      "metadata": {
        "id": "RXbYLEfgRf4L"
      },
      "source": [
        "class Attention(tf.keras.Model):\n",
        "    def __init__(self, units):\n",
        "        super(Attention, self).__init__()\n",
        "        self.W1 = tf.keras.layers.Dense(units)\n",
        "        self.W2 = tf.keras.layers.Dense(units)\n",
        "        self.V = tf.keras.layers.Dense(1)\n",
        "\n",
        "    def call(self, features, hidden):\n",
        "        # hidden shape == (batch_size, hidden size)\n",
        "        # hidden_with_time_axis shape == (batch_size, 1, hidden size)\n",
        "        # we are doing this to perform addition to calculate the score\n",
        "        hidden_with_time_axis = tf.expand_dims(hidden, 1)\n",
        "          \n",
        "        # score shape == (batch_size, max_length, 1)\n",
        "        # we get 1 at the last axis because we are applying score to self.V\n",
        "        # the shape of the tensor before applying self.V is (batch_size, max_length, units)\n",
        "        score = tf.nn.tanh(\n",
        "            self.W1(features) + self.W2(hidden_with_time_axis))\n",
        "        # attention_weights shape == (batch_size, max_length, 1)\n",
        "        attention_weights = tf.nn.softmax(self.V(score), axis=1)\n",
        "          \n",
        "        # context_vector shape after sum == (batch_size, hidden_size)\n",
        "        context_vector = attention_weights * features\n",
        "        context_vector = tf.reduce_sum(context_vector, axis=1)\n",
        "        return context_vector, attention_weights"
      ],
      "execution_count": null,
      "outputs": []
    },
    {
      "cell_type": "code",
      "metadata": {
        "id": "HhTIpEuxRfwc"
      },
      "source": [
        "def gru_attention(word_index,embeddings_index,nclasses,MAX_SEQUENCE_LENGTH=332, EMBEDDING_DIM=300, dropout=0.5,RNN_CELL_SIZE = 32):\n",
        "  seq_input = Input(shape= (max_len,),dtype= \"int32\")\n",
        "  embedding_matrix = np.random.random((len(word_index) + 1, EMBEDDING_DIM))\n",
        "  for word, i in word_index.items():\n",
        "          embedding_vector = embeddings_index.get(word)\n",
        "          if embedding_vector is not None:\n",
        "              # words not found in embedding index will be all-zeros.\n",
        "              if len(embedding_matrix[i]) != len(embedding_vector):\n",
        "                  print(\"could not broadcast input array from shape\", str(len(embedding_matrix[i])),\n",
        "                        \"into shape\", str(len(embedding_vector)), \" Please make sure your\"\n",
        "                                                                  \" EMBEDDING_DIM is equal to embedding_vector file ,GloVe,\")\n",
        "                  exit(1)\n",
        "              embedding_matrix[i] = embedding_vector\n",
        "  embedded_sequences = Embedding(len(word_index) + 1,\n",
        "                                  EMBEDDING_DIM,\n",
        "                                  weights=[embedding_matrix],\n",
        "                                  input_length=MAX_SEQUENCE_LENGTH,\n",
        "                                  trainable=False)(seq_input)\n",
        "  #embedded_sequences = Embedding(MAX_SEQUENCE_LENGTH, EMBEDDING_DIM)(sequence_input)\n",
        "  gru = Bidirectional(GRU(32, return_sequences = True), name=\"bi_gru_0\")(embedded_sequences)\n",
        "  (gru, forward_h, forward_c, backward_h, backward_c) = Bidirectional(LSTM(RNN_CELL_SIZE, return_sequences=True, return_state=True), name=\"bi_lstm_1\")(gru)\n",
        "  #Since our model uses a bi-directional RNN, we first concatenate the hidden states from each RNN before computing the attention weights and applying the weighted sum.\n",
        "  state_h = Concatenate()([forward_h, backward_h])\n",
        "  state_c = Concatenate()([forward_c, backward_c])\n",
        "  context_vector, attention_weights = Attention(10)(gru, state_h)\n",
        "  #drop1 = Dropout(0.2)(gru1)\n",
        "  #(lstm, forward_h, forward_c, backward_h, backward_c) = Bidirectional(LSTM(RNN_CELL_SIZE, return_sequences=True, return_state=True), name=\"bi_lstm_1\")(lstm)\n",
        "  #Since our model uses a bi-directional RNN, we first concatenate the hidden states from each RNN before computing the attention weights and applying the weighted sum\n",
        "  dense1 = Dense(32, activation=\"relu\")(context_vector)\n",
        "  dropout = Dropout(0.05)(dense1)\n",
        "  output = Dense(nclasses, activation=\"sigmoid\")(dropout)\n",
        "  model = tf.keras.Model(inputs=seq_input, outputs=output)\n",
        "  METRICS = [\n",
        "    tf.keras.metrics.TruePositives(name='tp'),\n",
        "    tf.keras.metrics.FalsePositives(name='fp'),\n",
        "    tf.keras.metrics.TrueNegatives(name='tn'),\n",
        "    tf.keras.metrics.FalseNegatives(name='fn'),\n",
        "    tf.keras.metrics.BinaryAccuracy(name='accuracy'),\n",
        "    tf.keras.metrics.Precision(name='precision'),\n",
        "    tf.keras.metrics.Recall(name='recall'),\n",
        "    tf.keras.metrics.AUC(name='auc'),\n",
        "  ]\n",
        "\n",
        "  model.compile(loss='binary_crossentropy',\n",
        "              optimizer='adam',\n",
        "              metrics=METRICS)\n",
        "  return model"
      ],
      "execution_count": null,
      "outputs": []
    },
    {
      "cell_type": "code",
      "metadata": {
        "id": "_IDNcSBrdC-P"
      },
      "source": [
        "def bilstm_attention(word_index,embeddings_index,nclasses,MAX_SEQUENCE_LENGTH=332, EMBEDDING_DIM=300, dropout=0.5,RNN_CELL_SIZE = 32):\n",
        "  seq_input = Input(shape= (max_len,),dtype= \"int32\")\n",
        "  embedding_matrix = np.random.random((len(word_index) + 1, EMBEDDING_DIM))\n",
        "  for word, i in word_index.items():\n",
        "          embedding_vector = embeddings_index.get(word)\n",
        "          if embedding_vector is not None:\n",
        "              # words not found in embedding index will be all-zeros.\n",
        "              if len(embedding_matrix[i]) != len(embedding_vector):\n",
        "                  print(\"could not broadcast input array from shape\", str(len(embedding_matrix[i])),\n",
        "                        \"into shape\", str(len(embedding_vector)), \" Please make sure your\"\n",
        "                                                                  \" EMBEDDING_DIM is equal to embedding_vector file ,GloVe,\")\n",
        "                  exit(1)\n",
        "              embedding_matrix[i] = embedding_vector\n",
        "  embedded_sequences = Embedding(len(word_index) + 1,\n",
        "                                  EMBEDDING_DIM,\n",
        "                                  weights=[embedding_matrix],\n",
        "                                  input_length=MAX_SEQUENCE_LENGTH,\n",
        "                                  trainable=False)(seq_input)\n",
        "  #embedded_sequences = Embedding(MAX_SEQUENCE_LENGTH, EMBEDDING_DIM)(sequence_input)\n",
        "  lstm = Bidirectional(LSTM(32, return_sequences = True), name=\"bi_lstm_0\")(embedded_sequences)\n",
        "  (lstm, forward_h, forward_c, backward_h, backward_c) = Bidirectional(LSTM(RNN_CELL_SIZE, return_sequences=True, return_state=True), name=\"bi_lstm_1\")(lstm)\n",
        "  #Since our model uses a bi-directional RNN, we first concatenate the hidden states from each RNN before computing the attention weights and applying the weighted sum.\n",
        "  state_h = Concatenate()([forward_h, backward_h])\n",
        "  state_c = Concatenate()([forward_c, backward_c])\n",
        "  context_vector, attention_weights = Attention(10)(lstm, state_h)\n",
        "  dense1 = Dense(20, activation=\"relu\")(context_vector)\n",
        "  dropout = Dropout(0.05)(dense1)\n",
        "  output = Dense(nclasses, activation=\"sigmoid\")(dropout)\n",
        "  model = tf.keras.Model(inputs=seq_input, outputs=output)\n",
        "  METRICS = [\n",
        "    tf.keras.metrics.TruePositives(name='tp'),\n",
        "    tf.keras.metrics.FalsePositives(name='fp'),\n",
        "    tf.keras.metrics.TrueNegatives(name='tn'),\n",
        "    tf.keras.metrics.FalseNegatives(name='fn'),\n",
        "    tf.keras.metrics.BinaryAccuracy(name='accuracy'),\n",
        "    tf.keras.metrics.Precision(name='precision'),\n",
        "    tf.keras.metrics.Recall(name='recall'),\n",
        "    tf.keras.metrics.AUC(name='auc'),\n",
        "  ]\n",
        "\n",
        "  model.compile(loss='binary_crossentropy',\n",
        "              optimizer='adam',\n",
        "              metrics=METRICS)\n",
        "  return model"
      ],
      "execution_count": null,
      "outputs": []
    },
    {
      "cell_type": "code",
      "metadata": {
        "id": "5MocXszUvbpc"
      },
      "source": [
        "def RNN_MODEL(word_index,embeddings_index,nclasses,MAX_SEQUENCE_LENGTH=332, EMBEDDING_DIM=300, dropout=0.5):\n",
        "  model = Sequential()\n",
        "  hidden_layer = 3\n",
        "  gru_node  = 32\n",
        "  #EMBEDDING_DIM = 300\n",
        "  embedding_matrix = np.random.random((len(word_index) + 1, EMBEDDING_DIM))\n",
        "  for word, i in word_index.items():\n",
        "          embedding_vector = embeddings_index.get(word)\n",
        "          if embedding_vector is not None:\n",
        "              # words not found in embedding index will be all-zeros.\n",
        "              if len(embedding_matrix[i]) != len(embedding_vector):\n",
        "                  print(\"could not broadcast input array from shape\", str(len(embedding_matrix[i])),\n",
        "                        \"into shape\", str(len(embedding_vector)), \" Please make sure your\"\n",
        "                                                                  \" EMBEDDING_DIM is equal to embedding_vector file ,GloVe,\")\n",
        "                  exit(1)\n",
        "              embedding_matrix[i] = embedding_vector\n",
        "  model.add(Embedding(len(word_index) + 1,\n",
        "                                  EMBEDDING_DIM,\n",
        "                                  weights=[embedding_matrix],\n",
        "                                  input_length=MAX_SEQUENCE_LENGTH,\n",
        "                                  trainable=False))\n",
        "\n",
        "\n",
        "  print(gru_node)\n",
        "  for i in range(0,hidden_layer):\n",
        "    model.add(GRU(gru_node,return_sequences=True, recurrent_dropout=0.2))\n",
        "    model.add(Dropout(dropout))\n",
        "  model.add(GRU(gru_node, recurrent_dropout=0.2))\n",
        "  model.add(Dropout(dropout))\n",
        "  model.add(Dense(256, activation='relu'))\n",
        "  model.add(Dense(nclasses, activation='sigmoid'))\n",
        "\n",
        "\n",
        "  #model.compile(loss='binary_crossentropy',\n",
        "  #                  optimizer='adam',\n",
        "  #                    metrics=['accuracy'])\n",
        "  model.compile(loss = 'binary_crossentropy',optimizer = 'adam',metrics = ['acc'])\n",
        "  return model\n"
      ],
      "execution_count": null,
      "outputs": []
    },
    {
      "cell_type": "code",
      "metadata": {
        "id": "vt1XExKsVr6m"
      },
      "source": [
        "def RNN_MODEL_1(word_index,embeddings_index,embedding_matrix,nclasses,MAX_SEQUENCE_LENGTH=332, EMBEDDING_DIM=300, dropout=0.5):\n",
        "  model = Sequential()\n",
        "  hidden_layer = 3\n",
        "  gru_node  = 32\n",
        "  #EMBEDDING_DIM = 300\n",
        "\n",
        "  model.add(Embedding(len(word_index) + 1,\n",
        "                                  EMBEDDING_DIM,\n",
        "                                  weights=[embedding_matrix],\n",
        "                                  input_length=MAX_SEQUENCE_LENGTH,\n",
        "                                  trainable=True))\n",
        "\n",
        "\n",
        "  print(gru_node)\n",
        "  for i in range(0,hidden_layer):\n",
        "    model.add(LSTM(gru_node,return_sequences=True, recurrent_dropout=0.2))\n",
        "    model.add(Dropout(dropout))\n",
        "  model.add(LSTM(gru_node, recurrent_dropout=0.2))\n",
        "  model.add(Dropout(dropout))\n",
        "  model.add(Dense(256, activation='relu'))\n",
        "  model.add(Dense(nclasses, activation='sigmoid'))\n",
        "\n",
        "\n",
        "  model.compile(loss='binary_crossentropy',\n",
        "                    optimizer='adam',\n",
        "                      metrics=['acc'])\n",
        "  return model\n"
      ],
      "execution_count": null,
      "outputs": []
    },
    {
      "cell_type": "code",
      "metadata": {
        "id": "Z-JQQLwWAH83"
      },
      "source": [
        "def CONV_MODEL(word_index,embeddings_index,nclasses,MAX_SEQUENCE_LENGTH=332, EMBEDDING_DIM=300, dropout=0.5):\n",
        "  model = Sequential()\n",
        "  hidden_layer = 3\n",
        "  gru_node  = 32\n",
        "  #EMBEDDING_DIM = 300\n",
        "  embedding_matrix = np.random.random((len(word_index) + 1, EMBEDDING_DIM))\n",
        "  for word, i in word_index.items():\n",
        "          embedding_vector = embeddings_index.get(word)\n",
        "          if embedding_vector is not None:\n",
        "              # words not found in embedding index will be all-zeros.\n",
        "              if len(embedding_matrix[i]) != len(embedding_vector):\n",
        "                  print(\"could not broadcast input array from shape\", str(len(embedding_matrix[i])),\n",
        "                        \"into shape\", str(len(embedding_vector)), \" Please make sure your\"\n",
        "                                                                  \" EMBEDDING_DIM is equal to embedding_vector file ,GloVe,\")\n",
        "                  exit(1)\n",
        "              embedding_matrix[i] = embedding_vector\n",
        "  model.add(Embedding(len(word_index) + 1,\n",
        "                                  EMBEDDING_DIM,\n",
        "                                  weights=[embedding_matrix],\n",
        "                                  input_length=MAX_SEQUENCE_LENGTH,\n",
        "                                  trainable=True))\n",
        "\n",
        "  model.add(Conv1D(128, 5, activation='relu'))\n",
        "  model.add(GlobalMaxPooling1D())\n",
        "  #model.add(LSTM(gru_node, recurrent_dropout=0.2))\n",
        "  #model.add(Dropout(dropout))\n",
        "  model.add(Dense(256, activation='relu'))\n",
        "  model.add(Dense(nclasses, activation='sigmoid'))\n",
        "\n",
        "\n",
        "  model.compile(loss='binary_crossentropy',\n",
        "                    optimizer='adam',\n",
        "                      metrics=['acc'])\n",
        "  return model\n"
      ],
      "execution_count": null,
      "outputs": []
    },
    {
      "cell_type": "code",
      "metadata": {
        "id": "ZrgeXHmSAfYq"
      },
      "source": [
        "def conv_attention(word_index,embeddings_index,nclasses,MAX_SEQUENCE_LENGTH=332, EMBEDDING_DIM=300, dropout=0.5,RNN_CELL_SIZE = 32):\n",
        "  seq_input = Input(shape= (max_len,),dtype= \"int32\")\n",
        "  embedding_matrix = np.random.random((len(word_index) + 1, EMBEDDING_DIM))\n",
        "  for word, i in word_index.items():\n",
        "          embedding_vector = embeddings_index.get(word)\n",
        "          if embedding_vector is not None:\n",
        "              # words not found in embedding index will be all-zeros.\n",
        "              if len(embedding_matrix[i]) != len(embedding_vector):\n",
        "                  print(\"could not broadcast input array from shape\", str(len(embedding_matrix[i])),\n",
        "                        \"into shape\", str(len(embedding_vector)), \" Please make sure your\"\n",
        "                                                                  \" EMBEDDING_DIM is equal to embedding_vector file ,GloVe,\")\n",
        "                  exit(1)\n",
        "              embedding_matrix[i] = embedding_vector\n",
        "  embedded_sequences = Embedding(len(word_index) + 1,\n",
        "                                  EMBEDDING_DIM,\n",
        "                                  weights=[embedding_matrix],\n",
        "                                  input_length=MAX_SEQUENCE_LENGTH,\n",
        "                                  trainable=False)(seq_input)\n",
        "  #embedded_sequences = Embedding(MAX_SEQUENCE_LENGTH, EMBEDDING_DIM)(sequence_input)\n",
        "  conv =  Conv1D(256, 5, activation='relu')(embedded_sequences)\n",
        "  drop = Dropout(0.1)(conv)\n",
        "  conv1  = Conv1D(128,5)(drop)\n",
        "  pool = GlobalMaxPooling1D()(conv1)\n",
        "  #drop1 = Dropout(0.2)(gru1)\n",
        "  #(lstm, forward_h, forward_c, backward_h, backward_c) = Bidirectional(LSTM(RNN_CELL_SIZE, return_sequences=True, return_state=True), name=\"bi_lstm_1\")(lstm)\n",
        "  #Since our model uses a bi-directional RNN, we first concatenate the hidden states from each RNN before computing the attention weights and applying the weighted sum.\n",
        "  context_vector, attention_weights = Attention(10)(pool)\n",
        "  dense1 = Dense(20, activation=\"relu\")(context_vector)\n",
        "  dropout = Dropout(0.05)(dense1)\n",
        "  output = Dense(nclasses, activation=\"sigmoid\")(dropout)\n",
        "  model = tf.keras.Model(inputs=seq_input, outputs=output)\n",
        "  METRICS = [\n",
        "    tf.keras.metrics.TruePositives(name='tp'),\n",
        "    tf.keras.metrics.FalsePositives(name='fp'),\n",
        "    tf.keras.metrics.TrueNegatives(name='tn'),\n",
        "    tf.keras.metrics.FalseNegatives(name='fn'),\n",
        "    tf.keras.metrics.BinaryAccuracy(name='accuracy'),\n",
        "    tf.keras.metrics.Precision(name='precision'),\n",
        "    tf.keras.metrics.Recall(name='recall'),\n",
        "    tf.keras.metrics.\n",
        "    tf.keras.metrics.AUC(name='auc'),\n",
        "  ]\n",
        "\n",
        "  model.compile(loss='binary_crossentropy',\n",
        "              optimizer='adam',\n",
        "              metrics=METRICS)\n",
        "  return model"
      ],
      "execution_count": null,
      "outputs": []
    },
    {
      "cell_type": "markdown",
      "metadata": {
        "id": "u2Aml7vhVpIC"
      },
      "source": [
        "# model fit and train"
      ]
    },
    {
      "cell_type": "code",
      "metadata": {
        "id": "K5SvnnqkcdxS"
      },
      "source": [
        "model_RNN = gru_attention(word_index,embeddings_dict, 5)"
      ],
      "execution_count": null,
      "outputs": []
    },
    {
      "cell_type": "code",
      "metadata": {
        "id": "mZzYz0UU1YQF"
      },
      "source": [
        "#model_RNN = RNN_MODEL_1(word_index,embeddings_dict, 29)\n",
        "  # checkpoint\n",
        "filepath=\"weights-improvement1-{epoch:02d}-{val_accuracy:.2f}.hdf5\"\n",
        "checkpoint = ModelCheckpoint(filepath, monitor='val_accuracy', verbose=1, save_best_only=True, mode='max')\n",
        "callbacks_list = [checkpoint]"
      ],
      "execution_count": null,
      "outputs": []
    },
    {
      "cell_type": "markdown",
      "metadata": {
        "id": "C0ANReHSVV8s"
      },
      "source": [
        "## NORMAL\n"
      ]
    },
    {
      "cell_type": "code",
      "metadata": {
        "colab": {
          "base_uri": "https://localhost:8080/"
        },
        "id": "G3-vn-mI3hbV",
        "outputId": "63acef74-175b-4e86-e06d-4072d7a9a6f5"
      },
      "source": [
        "history = model_RNN.fit(X_train, y_train,\n",
        "                              validation_data = (X_test,y_test),\n",
        "                              epochs=20,\n",
        "                              batch_size =128 ,\n",
        "                            #callbacks=callbacks_list,  \n",
        "                              verbose=1)"
      ],
      "execution_count": null,
      "outputs": [
        {
          "output_type": "stream",
          "text": [
            "Epoch 1/20\n",
            "88/88 [==============================] - 46s 423ms/step - loss: 0.5374 - tp: 3046.5955 - fp: 1772.0562 - tn: 18735.6517 - fn: 5231.6517 - accuracy: 0.7340 - precision: 0.5705 - recall: 0.3314 - auc: 0.7174 - val_loss: 0.3156 - val_tp: 3243.0000 - val_fp: 1200.0000 - val_tn: 8717.0000 - val_fn: 845.0000 - val_accuracy: 0.8540 - val_precision: 0.7299 - val_recall: 0.7933 - val_auc: 0.9265\n",
            "Epoch 2/20\n",
            "88/88 [==============================] - 35s 394ms/step - loss: 0.2977 - tp: 6110.9213 - fp: 1676.5618 - tn: 18815.6292 - fn: 2182.8427 - accuracy: 0.8640 - precision: 0.7810 - recall: 0.7328 - auc: 0.9316 - val_loss: 0.2755 - val_tp: 3001.0000 - val_fp: 650.0000 - val_tn: 9267.0000 - val_fn: 1087.0000 - val_accuracy: 0.8760 - val_precision: 0.8220 - val_recall: 0.7341 - val_auc: 0.9433\n",
            "Epoch 3/20\n",
            "88/88 [==============================] - 35s 400ms/step - loss: 0.2666 - tp: 6541.0337 - fp: 1588.5056 - tn: 18876.1798 - fn: 1780.2360 - accuracy: 0.8812 - precision: 0.8053 - recall: 0.7801 - auc: 0.9459 - val_loss: 0.2586 - val_tp: 3297.0000 - val_fp: 818.0000 - val_tn: 9099.0000 - val_fn: 791.0000 - val_accuracy: 0.8851 - val_precision: 0.8012 - val_recall: 0.8065 - val_auc: 0.9498\n",
            "Epoch 4/20\n",
            "88/88 [==============================] - 36s 408ms/step - loss: 0.2441 - tp: 6725.0225 - fp: 1507.9551 - tn: 18978.5730 - fn: 1574.4045 - accuracy: 0.8937 - precision: 0.8186 - recall: 0.8122 - auc: 0.9550 - val_loss: 0.2560 - val_tp: 3371.0000 - val_fp: 904.0000 - val_tn: 9013.0000 - val_fn: 717.0000 - val_accuracy: 0.8843 - val_precision: 0.7885 - val_recall: 0.8246 - val_auc: 0.9506\n",
            "Epoch 5/20\n",
            "88/88 [==============================] - 36s 414ms/step - loss: 0.2332 - tp: 6804.2022 - fp: 1462.4944 - tn: 19037.5618 - fn: 1481.6966 - accuracy: 0.8966 - precision: 0.8195 - recall: 0.8219 - auc: 0.9588 - val_loss: 0.2468 - val_tp: 3317.0000 - val_fp: 751.0000 - val_tn: 9166.0000 - val_fn: 771.0000 - val_accuracy: 0.8913 - val_precision: 0.8154 - val_recall: 0.8114 - val_auc: 0.9542\n",
            "Epoch 6/20\n",
            "88/88 [==============================] - 36s 410ms/step - loss: 0.2209 - tp: 6857.6180 - fp: 1389.4494 - tn: 19108.5843 - fn: 1430.3034 - accuracy: 0.9014 - precision: 0.8313 - recall: 0.8255 - auc: 0.9631 - val_loss: 0.2450 - val_tp: 3322.0000 - val_fp: 748.0000 - val_tn: 9169.0000 - val_fn: 766.0000 - val_accuracy: 0.8919 - val_precision: 0.8162 - val_recall: 0.8126 - val_auc: 0.9549\n",
            "Epoch 7/20\n",
            "88/88 [==============================] - 35s 400ms/step - loss: 0.2095 - tp: 6986.6742 - fp: 1339.0787 - tn: 19158.5393 - fn: 1301.6629 - accuracy: 0.9089 - precision: 0.8390 - recall: 0.8454 - auc: 0.9668 - val_loss: 0.2440 - val_tp: 3314.0000 - val_fp: 739.0000 - val_tn: 9178.0000 - val_fn: 774.0000 - val_accuracy: 0.8920 - val_precision: 0.8177 - val_recall: 0.8107 - val_auc: 0.9550\n",
            "Epoch 8/20\n",
            "88/88 [==============================] - 37s 427ms/step - loss: 0.2123 - tp: 6997.3146 - fp: 1351.7640 - tn: 19111.9888 - fn: 1324.8876 - accuracy: 0.9057 - precision: 0.8364 - recall: 0.8396 - auc: 0.9661 - val_loss: 0.2516 - val_tp: 3239.0000 - val_fp: 683.0000 - val_tn: 9234.0000 - val_fn: 849.0000 - val_accuracy: 0.8906 - val_precision: 0.8259 - val_recall: 0.7923 - val_auc: 0.9540\n",
            "Epoch 9/20\n",
            "88/88 [==============================] - 37s 416ms/step - loss: 0.1977 - tp: 7080.9888 - fp: 1207.4607 - tn: 19300.3596 - fn: 1197.1461 - accuracy: 0.9161 - precision: 0.8542 - recall: 0.8536 - auc: 0.9705 - val_loss: 0.2447 - val_tp: 3310.0000 - val_fp: 723.0000 - val_tn: 9194.0000 - val_fn: 778.0000 - val_accuracy: 0.8928 - val_precision: 0.8207 - val_recall: 0.8097 - val_auc: 0.9556\n",
            "Epoch 10/20\n",
            "88/88 [==============================] - 36s 410ms/step - loss: 0.1907 - tp: 7052.6629 - fp: 1211.3596 - tn: 19333.3596 - fn: 1188.5730 - accuracy: 0.9162 - precision: 0.8524 - recall: 0.8557 - auc: 0.9725 - val_loss: 0.2619 - val_tp: 3150.0000 - val_fp: 589.0000 - val_tn: 9328.0000 - val_fn: 938.0000 - val_accuracy: 0.8910 - val_precision: 0.8425 - val_recall: 0.7705 - val_auc: 0.9527\n",
            "Epoch 11/20\n",
            "88/88 [==============================] - 36s 410ms/step - loss: 0.1858 - tp: 7148.2921 - fp: 1181.2247 - tn: 19300.3258 - fn: 1156.1124 - accuracy: 0.9189 - precision: 0.8616 - recall: 0.8572 - auc: 0.9741 - val_loss: 0.2653 - val_tp: 3201.0000 - val_fp: 645.0000 - val_tn: 9272.0000 - val_fn: 887.0000 - val_accuracy: 0.8906 - val_precision: 0.8323 - val_recall: 0.7830 - val_auc: 0.9527\n",
            "Epoch 12/20\n",
            "88/88 [==============================] - 35s 398ms/step - loss: 0.1810 - tp: 7130.4157 - fp: 1149.9775 - tn: 19377.9213 - fn: 1127.6404 - accuracy: 0.9208 - precision: 0.8609 - recall: 0.8630 - auc: 0.9751 - val_loss: 0.2552 - val_tp: 3283.0000 - val_fp: 712.0000 - val_tn: 9205.0000 - val_fn: 805.0000 - val_accuracy: 0.8917 - val_precision: 0.8218 - val_recall: 0.8031 - val_auc: 0.9551\n",
            "Epoch 13/20\n",
            "88/88 [==============================] - 35s 403ms/step - loss: 0.1702 - tp: 7241.5393 - fp: 1099.3708 - tn: 19422.5506 - fn: 1022.4944 - accuracy: 0.9275 - precision: 0.8700 - recall: 0.8784 - auc: 0.9781 - val_loss: 0.2561 - val_tp: 3286.0000 - val_fp: 724.0000 - val_tn: 9193.0000 - val_fn: 802.0000 - val_accuracy: 0.8910 - val_precision: 0.8195 - val_recall: 0.8038 - val_auc: 0.9543\n",
            "Epoch 14/20\n",
            "88/88 [==============================] - 35s 401ms/step - loss: 0.1693 - tp: 7235.4157 - fp: 1054.1461 - tn: 19467.2472 - fn: 1029.1461 - accuracy: 0.9275 - precision: 0.8721 - recall: 0.8759 - auc: 0.9782 - val_loss: 0.2551 - val_tp: 3299.0000 - val_fp: 704.0000 - val_tn: 9213.0000 - val_fn: 789.0000 - val_accuracy: 0.8934 - val_precision: 0.8241 - val_recall: 0.8070 - val_auc: 0.9550\n",
            "Epoch 15/20\n",
            "88/88 [==============================] - 36s 409ms/step - loss: 0.1585 - tp: 7356.6180 - fp: 1033.6629 - tn: 19461.3371 - fn: 934.3371 - accuracy: 0.9330 - precision: 0.8795 - recall: 0.8901 - auc: 0.9809 - val_loss: 0.2623 - val_tp: 3264.0000 - val_fp: 684.0000 - val_tn: 9233.0000 - val_fn: 824.0000 - val_accuracy: 0.8923 - val_precision: 0.8267 - val_recall: 0.7984 - val_auc: 0.9535\n",
            "Epoch 16/20\n",
            "88/88 [==============================] - 36s 409ms/step - loss: 0.1510 - tp: 7315.1236 - fp: 955.2584 - tn: 19579.4719 - fn: 936.1011 - accuracy: 0.9354 - precision: 0.8863 - recall: 0.8882 - auc: 0.9828 - val_loss: 0.2684 - val_tp: 3256.0000 - val_fp: 684.0000 - val_tn: 9233.0000 - val_fn: 832.0000 - val_accuracy: 0.8918 - val_precision: 0.8264 - val_recall: 0.7965 - val_auc: 0.9522\n",
            "Epoch 17/20\n",
            "88/88 [==============================] - 36s 409ms/step - loss: 0.1515 - tp: 7390.9775 - fp: 953.6966 - tn: 19570.4831 - fn: 870.7978 - accuracy: 0.9362 - precision: 0.8842 - recall: 0.8953 - auc: 0.9825 - val_loss: 0.2827 - val_tp: 3238.0000 - val_fp: 705.0000 - val_tn: 9212.0000 - val_fn: 850.0000 - val_accuracy: 0.8890 - val_precision: 0.8212 - val_recall: 0.7921 - val_auc: 0.9505\n",
            "Epoch 18/20\n",
            "88/88 [==============================] - 36s 405ms/step - loss: 0.1464 - tp: 7377.2135 - fp: 904.2135 - tn: 19624.1124 - fn: 880.4157 - accuracy: 0.9381 - precision: 0.8913 - recall: 0.8924 - auc: 0.9837 - val_loss: 0.2775 - val_tp: 3344.0000 - val_fp: 818.0000 - val_tn: 9099.0000 - val_fn: 744.0000 - val_accuracy: 0.8885 - val_precision: 0.8035 - val_recall: 0.8180 - val_auc: 0.9499\n",
            "Epoch 19/20\n",
            "88/88 [==============================] - 35s 403ms/step - loss: 0.1359 - tp: 7449.1798 - fp: 813.9888 - tn: 19705.8202 - fn: 816.9663 - accuracy: 0.9432 - precision: 0.9016 - recall: 0.9003 - auc: 0.9861 - val_loss: 0.2945 - val_tp: 3247.0000 - val_fp: 703.0000 - val_tn: 9214.0000 - val_fn: 841.0000 - val_accuracy: 0.8898 - val_precision: 0.8220 - val_recall: 0.7943 - val_auc: 0.9491\n",
            "Epoch 20/20\n",
            "88/88 [==============================] - 35s 395ms/step - loss: 0.1313 - tp: 7493.9213 - fp: 808.9213 - tn: 19713.2247 - fn: 769.8876 - accuracy: 0.9456 - precision: 0.9005 - recall: 0.9112 - auc: 0.9866 - val_loss: 0.2977 - val_tp: 3370.0000 - val_fp: 864.0000 - val_tn: 9053.0000 - val_fn: 718.0000 - val_accuracy: 0.8870 - val_precision: 0.7959 - val_recall: 0.8244 - val_auc: 0.9481\n"
          ],
          "name": "stdout"
        }
      ]
    },
    {
      "cell_type": "code",
      "metadata": {
        "id": "Y9Bfatc0wU6I"
      },
      "source": [
        "pred = model_RNN.predict(X_test)"
      ],
      "execution_count": null,
      "outputs": []
    },
    {
      "cell_type": "code",
      "metadata": {
        "colab": {
          "base_uri": "https://localhost:8080/"
        },
        "id": "vTKiKmx-oRmb",
        "outputId": "93e1c922-ac5d-4893-f017-2885406663c8"
      },
      "source": [
        "model_RNN.evaluate(X_test,y_test)"
      ],
      "execution_count": null,
      "outputs": [
        {
          "output_type": "stream",
          "text": [
            "88/88 [==============================] - 4s 43ms/step - loss: 0.2977 - tp: 3370.0000 - fp: 864.0000 - tn: 9053.0000 - fn: 718.0000 - accuracy: 0.8870 - precision: 0.7959 - recall: 0.8244 - auc: 0.9481\n"
          ],
          "name": "stdout"
        },
        {
          "output_type": "execute_result",
          "data": {
            "text/plain": [
              "[0.29770001769065857,\n",
              " 3370.0,\n",
              " 864.0,\n",
              " 9053.0,\n",
              " 718.0,\n",
              " 0.8870404362678528,\n",
              " 0.7959376573562622,\n",
              " 0.8243640065193176,\n",
              " 0.9480905532836914]"
            ]
          },
          "metadata": {
            "tags": []
          },
          "execution_count": 110
        }
      ]
    },
    {
      "cell_type": "code",
      "metadata": {
        "id": "6O3F2xLiwU33"
      },
      "source": [
        "pred_class = (pred > 0.5).astype(\"int32\")"
      ],
      "execution_count": null,
      "outputs": []
    },
    {
      "cell_type": "code",
      "metadata": {
        "id": "5EbL6ZkbVZfP"
      },
      "source": [
        "from sklearn.metrics import precision_score,recall_score,f1_score"
      ],
      "execution_count": null,
      "outputs": []
    },
    {
      "cell_type": "code",
      "metadata": {
        "colab": {
          "base_uri": "https://localhost:8080/"
        },
        "id": "RJSeQYf4VZUT",
        "outputId": "1dfb6eba-89fe-40ab-af61-6c274c5bba79"
      },
      "source": [
        "# for gru with attention(true)\n",
        "#print(\"the accuracy is\",accuracy_score(y_test,pred_class))\n",
        "print(\"the precision is \",precision_score(y_test,pred_class,average = 'micro'))\n",
        "print(\"the recall is \",recall_score(y_test,pred_class,average='micro'))\n",
        "print(\"the F1 score is \", f1_score(y_test,pred_class,average = 'micro'))"
      ],
      "execution_count": null,
      "outputs": [
        {
          "output_type": "stream",
          "text": [
            "the precision is  0.7959376476145489\n",
            "the recall is  0.8243639921722113\n",
            "the F1 score is  0.8099014659937515\n"
          ],
          "name": "stdout"
        }
      ]
    },
    {
      "cell_type": "code",
      "metadata": {
        "id": "ibNGctZjCnUe"
      },
      "source": [
        "#pred = model.predict(X_test)\n",
        "model_RNN.load_weights(\"weights-improvement2-06-0.78.hdf5\")"
      ],
      "execution_count": null,
      "outputs": []
    },
    {
      "cell_type": "code",
      "metadata": {
        "id": "YfByg2kD4lz7"
      },
      "source": [
        "model_RNN.save(\"/content/drive/MyDrive/major_project/LSTM3hiddenlayer.h5\")"
      ],
      "execution_count": null,
      "outputs": []
    },
    {
      "cell_type": "code",
      "metadata": {
        "id": "U9fZZ6vI5V2k"
      },
      "source": [
        "# ploting the accuracy\n",
        "print(\"Training Accuracy: {:.4f}\".format(accuracy))\n",
        "loss, accuracy = model_RNN.evaluate(X_test, y_test, verbose=1)\n",
        "print(\"Testing Accuracy:  {:.4f}\".format(accuracy))\n",
        "plot_history(history)# gru all classes"
      ],
      "execution_count": null,
      "outputs": []
    },
    {
      "cell_type": "code",
      "metadata": {
        "id": "zcs_QIydBQNg",
        "colab": {
          "base_uri": "https://localhost:8080/",
          "height": 1000
        },
        "outputId": "94b45a5f-111e-47c6-fb35-c5e5e6d0bfd6"
      },
      "source": [
        "# using trainable = False\n",
        "plot_history(history)# gru  with attention(true)"
      ],
      "execution_count": null,
      "outputs": [
        {
          "output_type": "execute_result",
          "data": {
            "text/plain": [
              "(<Figure size 1440x1080 with 12 Axes>,\n",
              " array([[<matplotlib.axes._subplots.AxesSubplot object at 0x7fcdbe77f7d0>,\n",
              "         <matplotlib.axes._subplots.AxesSubplot object at 0x7fcdbe739bd0>,\n",
              "         <matplotlib.axes._subplots.AxesSubplot object at 0x7fcdbe5f3990>,\n",
              "         <matplotlib.axes._subplots.AxesSubplot object at 0x7fcdbe52e850>],\n",
              "        [<matplotlib.axes._subplots.AxesSubplot object at 0x7fcdbe7cf250>,\n",
              "         <matplotlib.axes._subplots.AxesSubplot object at 0x7fcdbe482c50>,\n",
              "         <matplotlib.axes._subplots.AxesSubplot object at 0x7fcdbe3bded0>,\n",
              "         <matplotlib.axes._subplots.AxesSubplot object at 0x7fcdbe3777d0>],\n",
              "        [<matplotlib.axes._subplots.AxesSubplot object at 0x7fcdbe2f2d10>,\n",
              "         <matplotlib.axes._subplots.AxesSubplot object at 0x7fcdbe1edf50>,\n",
              "         <matplotlib.axes._subplots.AxesSubplot object at 0x7fcdbe1aa810>,\n",
              "         <matplotlib.axes._subplots.AxesSubplot object at 0x7fcdbe1e0d90>]],\n",
              "       dtype=object))"
            ]
          },
          "metadata": {
            "tags": []
          },
          "execution_count": 94
        },
        {
          "output_type": "display_data",
          "data": {
            "image/png": "[encoded data removed]",
            "text/plain": [
              "<Figure size 1440x1080 with 12 Axes>"
            ]
          },
          "metadata": {
            "tags": [],
            "needs_background": "light"
          }
        }
      ]
    },
    {
      "cell_type": "code",
      "metadata": {
        "id": "tumcrDB2VwP-",
        "colab": {
          "base_uri": "https://localhost:8080/"
        },
        "outputId": "c6860ad8-0d81-41ab-f85d-2600190754d9"
      },
      "source": [
        "model_RNN.summary()"
      ],
      "execution_count": null,
      "outputs": [
        {
          "output_type": "stream",
          "text": [
            "Model: \"model_5\"\n",
            "__________________________________________________________________________________________________\n",
            "Layer (type)                    Output Shape         Param #     Connected to                     \n",
            "==================================================================================================\n",
            "input_13 (InputLayer)           [(None, 102)]        0                                            \n",
            "__________________________________________________________________________________________________\n",
            "embedding_12 (Embedding)        (None, 102, 300)     18835200    input_13[0][0]                   \n",
            "__________________________________________________________________________________________________\n",
            "bi_lstm_0 (Bidirectional)       (None, 102, 64)      85248       embedding_12[0][0]               \n",
            "__________________________________________________________________________________________________\n",
            "bi_lstm_1 (Bidirectional)       [(None, 102, 64), (N 24832       bi_lstm_0[0][0]                  \n",
            "__________________________________________________________________________________________________\n",
            "concatenate_16 (Concatenate)    (None, 64)           0           bi_lstm_1[0][1]                  \n",
            "                                                                 bi_lstm_1[0][3]                  \n",
            "__________________________________________________________________________________________________\n",
            "attention_8 (Attention)         ((None, 64), (None,  1311        bi_lstm_1[0][0]                  \n",
            "                                                                 concatenate_16[0][0]             \n",
            "__________________________________________________________________________________________________\n",
            "dense_42 (Dense)                (None, 20)           1300        attention_8[0][0]                \n",
            "__________________________________________________________________________________________________\n",
            "dropout_8 (Dropout)             (None, 20)           0           dense_42[0][0]                   \n",
            "__________________________________________________________________________________________________\n",
            "dense_43 (Dense)                (None, 5)            105         dropout_8[0][0]                  \n",
            "==================================================================================================\n",
            "Total params: 18,947,996\n",
            "Trainable params: 112,796\n",
            "Non-trainable params: 18,835,200\n",
            "__________________________________________________________________________________________________\n"
          ],
          "name": "stdout"
        }
      ]
    },
    {
      "cell_type": "code",
      "metadata": {
        "id": "Ubh0U3YOsYkE"
      },
      "source": [
        ""
      ],
      "execution_count": null,
      "outputs": []
    }
  ]
}